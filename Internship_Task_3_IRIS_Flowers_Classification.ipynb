{
  "metadata": {
    "kernelspec": {
      "language": "python",
      "display_name": "Python 3",
      "name": "python3"
    },
    "language_info": {
      "pygments_lexer": "ipython3",
      "nbconvert_exporter": "python",
      "version": "3.6.4",
      "file_extension": ".py",
      "codemirror_mode": {
        "name": "ipython",
        "version": 3
      },
      "name": "python",
      "mimetype": "text/x-python"
    },
    "kaggle": {
      "accelerator": "none",
      "dataSources": [
        {
          "sourceId": 23404,
          "sourceType": "datasetVersion",
          "datasetId": 17860
        }
      ],
      "dockerImageVersionId": 30527,
      "isInternetEnabled": true,
      "language": "python",
      "sourceType": "notebook",
      "isGpuEnabled": false
    },
    "colab": {
      "provenance": []
    }
  },
  "nbformat_minor": 0,
  "nbformat": 4,
  "cells": [
    {
      "cell_type": "markdown",
      "source": [
        "# **Internship Task 3 : IRIS Flowers Classification**"
      ],
      "metadata": {
        "id": "4FLrvAD_Uofz"
      }
    },
    {
      "cell_type": "code",
      "source": [
        "#importing the required libraries\n",
        "import numpy as np\n",
        "import pandas as pd\n",
        "import matplotlib.pyplot as plt\n",
        "from sklearn.datasets import load_iris\n",
        "from sklearn.metrics import confusion_matrix\n",
        "from sklearn.model_selection import train_test_split\n",
        "from sklearn.neighbors import KNeighborsClassifier"
      ],
      "metadata": {
        "id": "8Meh5sfRfc6C",
        "execution": {
          "iopub.status.busy": "2023-08-10T10:55:49.09674Z",
          "iopub.execute_input": "2023-08-10T10:55:49.097193Z",
          "iopub.status.idle": "2023-08-10T10:55:49.103692Z",
          "shell.execute_reply.started": "2023-08-10T10:55:49.097159Z",
          "shell.execute_reply": "2023-08-10T10:55:49.102546Z"
        },
        "trusted": true
      },
      "execution_count": null,
      "outputs": []
    },
    {
      "cell_type": "code",
      "source": [
        "# Importing the dataset\n",
        "# We are importing the Iris dataset, a well-known dataset in machine learning,\n",
        "# often used for classification tasks. The dataset contains samples of three\n",
        "# different species of iris flowers, with various measurements.\n",
        "iris = load_iris()\n",
        "# Extracting features\n",
        "# We are assigning the feature data (also known as the independent variables)\n",
        "# from the imported Iris dataset to the variable 'X'. This will contain the\n",
        "# measurements of sepal length, sepal width, petal length, and petal width\n",
        "# for each iris sample.\n",
        "X = iris.data\n",
        "# Extracting labels\n",
        "# We are assigning the target labels (also known as the dependent variable)\n",
        "# from the imported Iris dataset to the variable 'y'. This will contain the\n",
        "# species label (0, 1, or 2) corresponding to each iris sample.\n",
        "y = iris.target"
      ],
      "metadata": {
        "id": "_KWIu-Q4f8at",
        "execution": {
          "iopub.status.busy": "2023-08-10T10:55:49.111356Z",
          "iopub.execute_input": "2023-08-10T10:55:49.112435Z",
          "iopub.status.idle": "2023-08-10T10:55:49.129235Z",
          "shell.execute_reply.started": "2023-08-10T10:55:49.112397Z",
          "shell.execute_reply": "2023-08-10T10:55:49.127777Z"
        },
        "trusted": true
      },
      "execution_count": null,
      "outputs": []
    },
    {
      "cell_type": "code",
      "source": [
        "# The target_names attribute of the Iris dataset contains the names of the classes\n",
        "# that the machine learning model aims to predict.\n",
        "# The classes represent the different species of iris flowers: setosa, versicolor, and virginica.\n",
        "# These names are stored as an array in the target_names attribute\n",
        "iris.target_names"
      ],
      "metadata": {
        "id": "yu2RFD0yjv55",
        "execution": {
          "iopub.status.busy": "2023-08-10T10:55:51.341285Z",
          "iopub.execute_input": "2023-08-10T10:55:51.341704Z",
          "iopub.status.idle": "2023-08-10T10:55:51.350408Z",
          "shell.execute_reply.started": "2023-08-10T10:55:51.341672Z",
          "shell.execute_reply": "2023-08-10T10:55:51.349085Z"
        },
        "trusted": true
      },
      "execution_count": null,
      "outputs": []
    },
    {
      "cell_type": "code",
      "source": [
        "#Transpose of dataset\n",
        "# The 'iris.data' attribute holds the features (attributes) of the iris flowers.\n",
        "# These features include sepal length, sepal width, petal length, and petal width.\n",
        "# By taking the transpose of 'iris.data', we organize the data so that each row corresponds\n",
        "# to a specific feature, and each column corresponds to an individual flower.\n",
        "features = iris.data.T\n",
        "#assigning the feature names\n",
        "# Sepal length is the first row of the transposed matrix.\n",
        "sepal_length = features[0]\n",
        "# Sepal width is the second row of the transposed matrix.\n",
        "sepal_width = features[1]\n",
        "# Petal length is the third row of the transposed matrix.\n",
        "petal_length = features[2]\n",
        "# Petal width is the fourth row of the transposed matrix.\n",
        "petal_width = features[3]"
      ],
      "metadata": {
        "id": "w8UMy59EgBgE",
        "execution": {
          "iopub.status.busy": "2023-08-10T10:55:51.603148Z",
          "iopub.execute_input": "2023-08-10T10:55:51.60359Z",
          "iopub.status.idle": "2023-08-10T10:55:51.610692Z",
          "shell.execute_reply.started": "2023-08-10T10:55:51.603549Z",
          "shell.execute_reply": "2023-08-10T10:55:51.609424Z"
        },
        "trusted": true
      },
      "execution_count": null,
      "outputs": []
    },
    {
      "cell_type": "code",
      "source": [
        "# Setting labels for the plot figure\n",
        "# Assigning labels for the plot figure to provide context for the plotted data.\n",
        "\n",
        "# The feature_names attribute of the Iris dataset contains the names of the features, which are attributes\n",
        "# of the iris flowers. These features include sepal length, sepal width, petal length, and petal width.\n",
        "sepal_length_label = iris.feature_names[0]\n",
        "sepal_width_label = iris.feature_names[1]\n",
        "petal_length_label = iris.feature_names[2]\n",
        "petal_width_label = iris.feature_names[3]\n",
        "\n",
        "#plotting sepal width vs sepal length label\n",
        "# Plotting a scatter plot of sepal width against sepal length, using colors based on the target labels.\n",
        "plt.scatter(sepal_width, sepal_length, c=iris.target)\n",
        "#Plotting sepal width and length\n",
        "plt.xlabel(sepal_width_label)\n",
        "# Adding a label to the y-axis to indicate the attribute being plotted.\n",
        "plt.ylabel(sepal_length_label)\n",
        "plt.show()"
      ],
      "metadata": {
        "id": "ASZZxHlMOnyE",
        "execution": {
          "iopub.status.busy": "2023-08-10T10:55:54.25482Z",
          "iopub.execute_input": "2023-08-10T10:55:54.255243Z",
          "iopub.status.idle": "2023-08-10T10:55:54.544739Z",
          "shell.execute_reply.started": "2023-08-10T10:55:54.255196Z",
          "shell.execute_reply": "2023-08-10T10:55:54.543693Z"
        },
        "trusted": true
      },
      "execution_count": null,
      "outputs": []
    },
    {
      "cell_type": "code",
      "source": [
        "# Split the data set into training and testing\n",
        "# The 'train_test_split' function from a machine learning library (not shown here) is used\n",
        "# to partition the dataset into training and testing subsets. This is crucial for assessing\n",
        "# the performance of machine learning models.\n",
        "X_train, X_test, y_train, y_test = train_test_split(iris['data'], iris['target'], random_state=10)\n",
        "# Creating a K-Nearest Neighbors (KNN) classifier instance.\n",
        "\n",
        "# The KNN algorithm is a type of supervised learning that makes predictions based on\n",
        "# the majority class of its 'k' nearest neighbors in the feature space.\n",
        "\n",
        "# A KNN classifier is instantiated with 'n_neighbors' set to 3, meaning it will consider\n",
        "# the 3 closest neighbors for making predictions.\n",
        "KNN_Classifier = KNeighborsClassifier(n_neighbors=3)\n",
        "\n",
        "# Training the KNN classifier using the training data.\n",
        "# The 'fit' method is called on the KNN classifier instance to train the model.\n",
        "# It takes 'X_train' (the training features) and 'y_train' (the corresponding target labels) as arguments.\n",
        "KNN_Classifier.fit(X_train, y_train)"
      ],
      "metadata": {
        "id": "53QCEcisW_d0",
        "execution": {
          "iopub.status.busy": "2023-08-10T10:55:54.662383Z",
          "iopub.execute_input": "2023-08-10T10:55:54.66318Z",
          "iopub.status.idle": "2023-08-10T10:55:54.675961Z",
          "shell.execute_reply.started": "2023-08-10T10:55:54.663138Z",
          "shell.execute_reply": "2023-08-10T10:55:54.674511Z"
        },
        "trusted": true
      },
      "execution_count": null,
      "outputs": []
    },
    {
      "cell_type": "code",
      "source": [
        "# Creating a new data point to predict its class using the trained KNN classifier.\n",
        "# The new data point is represented as a NumPy array with four feature values: sepal length, sepal width,\n",
        "# petal length, and petal width.\n",
        "X_newIris = np.array([[5.0, 2.9, 1.0, 0.2]])\n",
        "\n",
        "# Using the trained KNN classifier to predict the class of the new data point.\n",
        "# The 'predict' method of the KNN classifier takes the new data point as an argument and returns the predicted class.\n",
        "predictNew = KNN_Classifier.predict(X_newIris)\n",
        "print(predictNew)"
      ],
      "metadata": {
        "id": "XYNAvl9tXEGf",
        "execution": {
          "iopub.status.busy": "2023-08-10T10:55:57.500533Z",
          "iopub.execute_input": "2023-08-10T10:55:57.501032Z",
          "iopub.status.idle": "2023-08-10T10:55:57.510588Z",
          "shell.execute_reply.started": "2023-08-10T10:55:57.500989Z",
          "shell.execute_reply": "2023-08-10T10:55:57.509414Z"
        },
        "trusted": true
      },
      "execution_count": null,
      "outputs": []
    },
    {
      "cell_type": "code",
      "source": [
        "# Accuracy Score of KNN classifier:\n",
        "print(KNN_Classifier.score(X_test, y_test))"
      ],
      "metadata": {
        "id": "QATVEL4rXJnE",
        "execution": {
          "iopub.status.busy": "2023-08-10T10:55:58.777665Z",
          "iopub.execute_input": "2023-08-10T10:55:58.778084Z",
          "iopub.status.idle": "2023-08-10T10:55:58.790634Z",
          "shell.execute_reply.started": "2023-08-10T10:55:58.778051Z",
          "shell.execute_reply": "2023-08-10T10:55:58.789435Z"
        },
        "trusted": true
      },
      "execution_count": null,
      "outputs": []
    },
    {
      "cell_type": "code",
      "source": [
        "y_pred = KNN_Classifier.predict(X_test)"
      ],
      "metadata": {
        "execution": {
          "iopub.status.busy": "2023-08-10T10:55:58.793458Z",
          "iopub.execute_input": "2023-08-10T10:55:58.793901Z",
          "iopub.status.idle": "2023-08-10T10:55:58.80361Z",
          "shell.execute_reply.started": "2023-08-10T10:55:58.793862Z",
          "shell.execute_reply": "2023-08-10T10:55:58.802316Z"
        },
        "trusted": true,
        "id": "tXaDaXSKUmhY"
      },
      "execution_count": null,
      "outputs": []
    },
    {
      "cell_type": "code",
      "source": [
        "#confusion matrix for the predictions\n",
        "confusion_matrix(y_pred, y_test)"
      ],
      "metadata": {
        "execution": {
          "iopub.status.busy": "2023-08-10T10:56:01.844597Z",
          "iopub.execute_input": "2023-08-10T10:56:01.845066Z",
          "iopub.status.idle": "2023-08-10T10:56:01.855816Z",
          "shell.execute_reply.started": "2023-08-10T10:56:01.845028Z",
          "shell.execute_reply": "2023-08-10T10:56:01.854461Z"
        },
        "trusted": true,
        "id": "RFn8cGoiUmhY"
      },
      "execution_count": null,
      "outputs": []
    }
  ]
}